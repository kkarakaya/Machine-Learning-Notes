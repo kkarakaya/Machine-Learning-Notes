{
  "nbformat": 4,
  "nbformat_minor": 0,
  "metadata": {
    "colab": {
      "name": "Machine Learning Notes.ipynb",
      "provenance": [],
      "toc_visible": true,
      "authorship_tag": "ABX9TyMm/6rszDBRSUBTKQBa6GBP",
      "include_colab_link": true
    },
    "kernelspec": {
      "name": "python3",
      "display_name": "Python 3"
    },
    "language_info": {
      "name": "python"
    }
  },
  "cells": [
    {
      "cell_type": "markdown",
      "metadata": {
        "id": "view-in-github",
        "colab_type": "text"
      },
      "source": [
        "<a href=\"https://colab.research.google.com/github/kkarakaya/Machine-Learning-Notes/blob/main/Machine_Learning_Notes.ipynb\" target=\"_parent\"><img src=\"https://colab.research.google.com/assets/colab-badge.svg\" alt=\"Open In Colab\"/></a>"
      ]
    },
    {
      "cell_type": "markdown",
      "metadata": {
        "id": "YRHESLApi1Nt"
      },
      "source": [
        "# Machine Learning Systems\n",
        "\n",
        ">Machine learning systems can be categorized by three aspects: \n",
        "\n",
        "1.  Supervised/Unsupervised/Reinforcement Learning\n",
        "2.  Batch/Online\n",
        "3.  Instance Based/Model Based\n",
        "\n",
        "\n",
        "---\n",
        "\n",
        "\n",
        "## Supervised, Unsupervised and Reinforcement Learning\n",
        "\n",
        "###Supervised Learning\n",
        "\n",
        ">Training set has labels\n",
        "\n",
        "\n",
        "*   k-nearest Neighbors\n",
        "*   Linear Regression\n",
        "*   Logistic Regression\n",
        "*   Support Vector Machines (SVMs)\n",
        "*   Decision Trees and Random Forests\n",
        "*   Neural Networks\n",
        "\n",
        "\n",
        "###Unsupervised Learning\n",
        "\n",
        "\n",
        ">Training set doesn't have labels\n",
        "\n",
        "*   Clustering\n",
        "  *   K-Means\n",
        "  *   DBSCAN\n",
        "  *   Hierarchical Cluster Analysis (HCA)\n",
        "*   Anomaly and Novelty Detection\n",
        "  *   One Class SVM\n",
        "  *   Isolation Forest\n",
        "*   Visualization and Dimensionality Reduction\n",
        "  *   Principal Component Analysis (PCA)\n",
        "  *   Kernel PCA\n",
        "  *   Locally Linear Embedding (LLE)\n",
        "  *   t-Distributed Sthochastic Neighbor Embedding (t-SNE)\n",
        "*   Association Rule Learning\n",
        "  *   Apriori\n",
        "  *   Eclat\n",
        "    \n",
        "\n",
        "###Reinforcement Learning\n",
        "\n",
        "\n",
        ">The learning system is called agent. Agent can observe environment, select and perform actions and get rewards in return.\n",
        "\n",
        "\n",
        "---\n",
        "\n",
        "\n",
        "##Batch and Online Learning\n",
        "\n",
        "###Batch Learning \n",
        "\n",
        ">Learning is offline. There is no learning after once trained model is launched. However, learning process can take days or weeks.\n",
        "    \n",
        "###Online Learning\n",
        "\n",
        ">Learning is online. As new instances are fed into model after being launced, it continues learning. Learning process is fast. However, bad data can cause performance drop.\n",
        "\n",
        "\n",
        "---\n",
        "\n",
        "\n",
        "##Instance and Model Based Learning\n",
        "\n",
        "###Instance Based Learning\n",
        "\n",
        ">System memorizes dataset and give resuts to inputs based on their similarity to previous data.\n",
        "\n",
        "###Model Based Learning\n",
        ">A model is built to make predictions.\n",
        "\n",
        "    source: https://thecleverprogrammer.com\n",
        "\n"
      ]
    }
  ]
}